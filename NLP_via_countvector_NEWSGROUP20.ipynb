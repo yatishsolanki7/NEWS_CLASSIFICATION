{
 "cells": [
  {
   "cell_type": "code",
   "execution_count": 1,
   "metadata": {},
   "outputs": [],
   "source": [
    "import nltk\n",
    "import re\n",
    "from nltk.tokenize import word_tokenize,sent_tokenize\n",
    "#wt = word_tokenize()\n",
    "#st = sent_tokenize()\n",
    "\n",
    "from nltk.stem import PorterStemmer\n",
    "ps = PorterStemmer()\n",
    "\n",
    "from nltk import pos_tag\n",
    "from nltk.stem import WordNetLemmatizer\n",
    "lt = WordNetLemmatizer()\n",
    "\n",
    "\n",
    "from nltk.corpus import stopwords\n",
    "s_words = stopwords.words('english')\n",
    "import string\n",
    "pun = list(string.punctuation)\n",
    "s_words += pun\n"
   ]
  },
  {
   "cell_type": "code",
   "execution_count": 2,
   "metadata": {},
   "outputs": [],
   "source": [
    "#getting pos in useful language\n",
    "from nltk.corpus import wordnet\n",
    "def get_simple_pos (tag):\n",
    "    if tag.startswith('J'):\n",
    "        return wordnet.ADJ\n",
    "    elif tag.startswith('V'):\n",
    "        return wordnet.VERB\n",
    "    elif tag.startswith('N'):\n",
    "        return wordnet.NOUN\n",
    "    elif tag.startswith('R'):\n",
    "        return wordnet.ADV\n",
    "    else:\n",
    "        return wordnet.NOUN\n"
   ]
  },
  {
   "cell_type": "code",
   "execution_count": 3,
   "metadata": {},
   "outputs": [],
   "source": [
    "def clean_text(words):\n",
    "    output_words=[]\n",
    "    for w in words:\n",
    "        if w not in s_words:\n",
    "            w = w.replace(r'\\S+@\\S+', ' ')  # remove email\n",
    "            w = re.sub('[^a-z,A-Z]',' ',w)\n",
    "            #pos = pos_tag(w)\n",
    "            #clean_w = lt.lemmatize(w,pos =get_simple_pos(pos[0][1]))\n",
    "            clean_w = ps.stem(w)\n",
    "            clean_w = clean_w.strip()  # remove trailing leading spaces\n",
    "            clean_w = clean_w.replace(r'\\s+', '')  # remove whitespace\n",
    "            output_words.append(clean_w)\n",
    "    return output_words"
   ]
  },
  {
   "cell_type": "code",
   "execution_count": 4,
   "metadata": {},
   "outputs": [],
   "source": [
    "def get_words(path):\n",
    "    import glob\n",
    "    all_cat = glob.glob(path + \"/*\")\n",
    "    documents = []\n",
    "    for cc in all_cat:\n",
    "        n_path = cc\n",
    "        all_doc = glob.glob(n_path +\"/*\")\n",
    "        for cd in all_doc:\n",
    "            f = '/'.join(cd.split('\\\\'))\n",
    "            f1 = open(f, 'r').read().replace(\"\\n\",\" \").lower()\n",
    "            words = word_tokenize(f1)\n",
    "            documents.append((clean_text(words),cc))\n",
    "    import random\n",
    "    random.shuffle(documents)\n",
    "    return documents"
   ]
  },
  {
   "cell_type": "code",
   "execution_count": 5,
   "metadata": {},
   "outputs": [
    {
     "name": "stdout",
     "output_type": "stream",
     "text": [
      "19997\n"
     ]
    }
   ],
   "source": [
    "path = r'C:\\Users\\YATISH\\Desktop\\NB_TEXT_ANALYSIS\\20_newsgroups'\n",
    "all_docs = get_words(path)\n",
    "print(len(all_docs))"
   ]
  },
  {
   "cell_type": "code",
   "execution_count": 6,
   "metadata": {},
   "outputs": [],
   "source": [
    "from sklearn.feature_extraction.text import CountVectorizer\n",
    "cv = CountVectorizer(max_features = 50000)\n"
   ]
  },
  {
   "cell_type": "code",
   "execution_count": 7,
   "metadata": {},
   "outputs": [],
   "source": [
    "categories = [all_docs[i][1] for i in range (len(all_docs))]\n",
    "text_docs = [\" \".join(all_docs[i][0]) for i in range (len(all_docs))]\n"
   ]
  },
  {
   "cell_type": "code",
   "execution_count": 8,
   "metadata": {},
   "outputs": [],
   "source": [
    "from sklearn.model_selection import train_test_split\n",
    "x_train,x_test,y_train,y_test = train_test_split(text_docs,categories)"
   ]
  },
  {
   "cell_type": "code",
   "execution_count": 9,
   "metadata": {},
   "outputs": [],
   "source": [
    "X_train = cv.fit_transform(x_train)\n",
    "X_test = cv.transform(x_test)"
   ]
  },
  {
   "cell_type": "code",
   "execution_count": 10,
   "metadata": {},
   "outputs": [
    {
     "data": {
      "text/plain": [
       "DecisionTreeClassifier(class_weight=None, criterion='gini', max_depth=None,\n",
       "            max_features=None, max_leaf_nodes=None,\n",
       "            min_impurity_decrease=0.0, min_impurity_split=None,\n",
       "            min_samples_leaf=1, min_samples_split=2,\n",
       "            min_weight_fraction_leaf=0.0, presort=False, random_state=None,\n",
       "            splitter='best')"
      ]
     },
     "execution_count": 10,
     "metadata": {},
     "output_type": "execute_result"
    }
   ],
   "source": [
    "from sklearn.tree import DecisionTreeClassifier\n",
    "clf = DecisionTreeClassifier()\n",
    "clf.fit(X_train,y_train)"
   ]
  },
  {
   "cell_type": "code",
   "execution_count": 11,
   "metadata": {},
   "outputs": [
    {
     "data": {
      "text/plain": [
       "0.9396"
      ]
     },
     "execution_count": 11,
     "metadata": {},
     "output_type": "execute_result"
    }
   ],
   "source": [
    "y_pred = clf.predict(X_test)\n",
    "clf.score(X_test,y_test)"
   ]
  }
 ],
 "metadata": {
  "kernelspec": {
   "display_name": "Python 3",
   "language": "python",
   "name": "python3"
  },
  "language_info": {
   "codemirror_mode": {
    "name": "ipython",
    "version": 3
   },
   "file_extension": ".py",
   "mimetype": "text/x-python",
   "name": "python",
   "nbconvert_exporter": "python",
   "pygments_lexer": "ipython3",
   "version": "3.7.1"
  }
 },
 "nbformat": 4,
 "nbformat_minor": 2
}
